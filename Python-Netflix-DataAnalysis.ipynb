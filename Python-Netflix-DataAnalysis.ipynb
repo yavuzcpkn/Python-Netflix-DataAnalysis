{
 "cells": [
  {
   "cell_type": "code",
   "execution_count": 1,
   "id": "e5399306",
   "metadata": {},
   "outputs": [],
   "source": [
    "import pandas as pd\n",
    "import numpy as np\n",
    "import seaborn as sns\n",
    "sns.set(color_codes = True)  #sets nice background color\n",
    "import matplotlib.pyplot as pl\n",
    "netflix =pd.read_csv('NetflixOriginals.csv', encoding=\"latin-1\")"
   ]
  },
  {
   "cell_type": "code",
   "execution_count": 2,
   "id": "30f2adc4",
   "metadata": {},
   "outputs": [
    {
     "name": "stdout",
     "output_type": "stream",
     "text": [
      "             Title                  Genre           Premiere  Runtime  \\\n",
      "0  Enter the Anime            Documentary     August 5, 2019       58   \n",
      "1      Dark Forces               Thriller    August 21, 2020       81   \n",
      "2          The App  Science fiction/Drama  December 26, 2019       79   \n",
      "3   The Open House        Horror thriller   January 19, 2018       94   \n",
      "4      Kaali Khuhi                Mystery   October 30, 2020       90   \n",
      "\n",
      "   IMDB Score          Language  \n",
      "0         2.5  English/Japanese  \n",
      "1         2.6           Spanish  \n",
      "2         2.6           Italian  \n",
      "3         3.2           English  \n",
      "4         3.4             Hindi  \n",
      "(584, 6)\n",
      "<class 'pandas.core.frame.DataFrame'>\n",
      "RangeIndex: 584 entries, 0 to 583\n",
      "Data columns (total 6 columns):\n",
      " #   Column      Non-Null Count  Dtype  \n",
      "---  ------      --------------  -----  \n",
      " 0   Title       584 non-null    object \n",
      " 1   Genre       584 non-null    object \n",
      " 2   Premiere    584 non-null    object \n",
      " 3   Runtime     584 non-null    int64  \n",
      " 4   IMDB Score  584 non-null    float64\n",
      " 5   Language    584 non-null    object \n",
      "dtypes: float64(1), int64(1), object(4)\n",
      "memory usage: 27.5+ KB\n",
      "None\n"
     ]
    }
   ],
   "source": [
    "#Viewing first few rows of the dataset\n",
    "print(netflix.head())\n",
    "#We have 6 column entries and 584 rows\n",
    "print(netflix.shape)\n",
    "#To understand more about the datatypes\n",
    "print(netflix.info())"
   ]
  },
  {
   "cell_type": "code",
   "execution_count": 3,
   "id": "956c5bcd",
   "metadata": {},
   "outputs": [
    {
     "name": "stdout",
     "output_type": "stream",
     "text": [
      "          Runtime  IMDB Score\n",
      "count  584.000000  584.000000\n",
      "mean    93.577055    6.271747\n",
      "std     27.761683    0.979256\n",
      "min      4.000000    2.500000\n",
      "25%     86.000000    5.700000\n",
      "50%     97.000000    6.350000\n",
      "75%    108.000000    7.000000\n",
      "max    209.000000    9.000000\n",
      "            Number of missing values\n",
      "Title                              0\n",
      "Genre                              0\n",
      "Premiere                           0\n",
      "Runtime                            0\n",
      "IMDB Score                         0\n",
      "Language                           0\n",
      "\n",
      "0     2019-08-05\n",
      "1     2020-08-21\n",
      "2     2019-12-26\n",
      "3     2018-01-19\n",
      "4     2020-10-30\n",
      "         ...    \n",
      "579   2018-12-31\n",
      "580   2015-10-09\n",
      "581   2018-12-16\n",
      "582   2020-12-08\n",
      "583   2020-10-04\n",
      "Name: Date, Length: 584, dtype: datetime64[ns]\n"
     ]
    }
   ],
   "source": [
    "print(netflix.describe())\n",
    "# 5-point summaey\n",
    "#Average movie run time is 94 mins and average IMDB score is 6\n",
    "\n",
    "# To find if there are any null values\n",
    "print(pd.DataFrame( netflix.isnull().sum(), columns= ['Number of missing values']))\n",
    "print()\n",
    "netflix[\"Date\"] = pd.to_datetime(netflix.Premiere)\n",
    "print (netflix[\"Date\"])"
   ]
  },
  {
   "cell_type": "code",
   "execution_count": 4,
   "id": "519c683c",
   "metadata": {},
   "outputs": [
    {
     "name": "stdout",
     "output_type": "stream",
     "text": [
      "---------------------------------------------------------------------------------\n",
      "             Title                  Genre           Premiere  Runtime  \\\n",
      "0  Enter the Anime            Documentary     August 5, 2019       58   \n",
      "1      Dark Forces               Thriller    August 21, 2020       81   \n",
      "2          The App  Science fiction/Drama  December 26, 2019       79   \n",
      "3   The Open House        Horror thriller   January 19, 2018       94   \n",
      "4      Kaali Khuhi                Mystery   October 30, 2020       90   \n",
      "\n",
      "   IMDB Score          Language       Date  Year  Month  Day  \n",
      "0         2.5  English/Japanese 2019-08-05  2019      8    0  \n",
      "1         2.6           Spanish 2020-08-21  2020      8    4  \n",
      "2         2.6           Italian 2019-12-26  2019     12    3  \n",
      "3         3.2           English 2018-01-19  2018      1    4  \n",
      "4         3.4             Hindi 2020-10-30  2020     10    4  \n"
     ]
    }
   ],
   "source": [
    "print(\"---------------------------------------------------------------------------------\")\n",
    "\n",
    "netflix['Year'] = netflix['Date'].dt.year\n",
    "netflix['Month'] = netflix['Date'].dt.month\n",
    "netflix['Day'] = netflix['Date'].dt.day_of_week\n",
    "print(netflix.head())"
   ]
  },
  {
   "cell_type": "code",
   "execution_count": 5,
   "id": "a35100b5",
   "metadata": {},
   "outputs": [
    {
     "name": "stdout",
     "output_type": "stream",
     "text": [
      "---------------------------------------------------------------------------------\n",
      "2020    183\n",
      "2019    125\n",
      "2018     99\n",
      "2021     71\n",
      "2017     66\n",
      "2016     30\n",
      "2015      9\n",
      "2014      1\n",
      "Name: Year, dtype: int64\n"
     ]
    }
   ],
   "source": [
    "print(\"---------------------------------------------------------------------------------\")\n",
    "\n",
    "#Hangi yılda en fazla film yayımlanmıştır?\n",
    "year = netflix.Year.value_counts()\n",
    "print(year)\n"
   ]
  },
  {
   "cell_type": "code",
   "execution_count": 6,
   "id": "6eef726c",
   "metadata": {},
   "outputs": [
    {
     "name": "stdout",
     "output_type": "stream",
     "text": [
      "---------------------------------------------------------------------------------\n"
     ]
    },
    {
     "data": {
      "image/png": "[encoded data removed]",
      "text/plain": [
       "<Figure size 432x288 with 1 Axes>"
      ]
     },
     "metadata": {},
     "output_type": "display_data"
    }
   ],
   "source": [
    "print(\"---------------------------------------------------------------------------------\")\n",
    "\n",
    "#En çok 2020 yılında yayınlanmıştır. Görselleştirilmiş hali\n",
    "sns.barplot(x=year.index, y=year.values, palette=\"OrRd\")\n",
    "pl.show()\n"
   ]
  },
  {
   "cell_type": "code",
   "execution_count": 7,
   "id": "1f397973",
   "metadata": {},
   "outputs": [
    {
     "name": "stdout",
     "output_type": "stream",
     "text": [
      "---------------------------------------------------------------------------------\n",
      "English    401\n",
      "Hindi       33\n",
      "Spanish     31\n",
      "Name: Language, dtype: int64\n"
     ]
    }
   ],
   "source": [
    "print(\"---------------------------------------------------------------------------------\")\n",
    "\n",
    "#Veri setinde kullanılan en popüler 3 dil\n",
    "top_3_lang = netflix.Language.value_counts().nlargest(3)\n",
    "print(top_3_lang)"
   ]
  },
  {
   "cell_type": "code",
   "execution_count": 8,
   "id": "ee73e7e9",
   "metadata": {},
   "outputs": [
    {
     "name": "stdout",
     "output_type": "stream",
     "text": [
      "---------------------------------------------------------------------------------\n",
      "     IMDB Score                                        Title\n",
      "583         9.0     David Attenborough: A Life on Our Planet\n",
      "582         8.6    Emicida: AmarElo - It's All For Yesterday\n",
      "581         8.5                      Springsteen on Broadway\n",
      "580         8.4  Winter on Fire: Ukraine's Fight for Freedom\n",
      "579         8.4        Taylor Swift: Reputation Stadium Tour\n",
      "578         8.4   Ben Platt: Live from Radio City Music Hall\n",
      "577         8.3                       Dancing with the Birds\n",
      "576         8.3                      Cuba and the Cameraman \n",
      "573         8.2                                        Klaus\n",
      "571         8.2                                         13th\n"
     ]
    }
   ],
   "source": [
    "print(\"---------------------------------------------------------------------------------\")\n",
    "\n",
    "#IMDB Puanı en yüksek olan ilk 10 film\n",
    "top_10_movies = netflix[[\"IMDB Score\", \"Title\",]].sort_values([\"IMDB Score\"], ascending=False)[:10]\n",
    "print(top_10_movies)"
   ]
  },
  {
   "cell_type": "code",
   "execution_count": 9,
   "id": "cce0a904",
   "metadata": {},
   "outputs": [
    {
     "name": "stdout",
     "output_type": "stream",
     "text": [
      "---------------------------------------------------------------------------------\n",
      "Genre\n",
      "Animation/Christmas/Comedy/Adventure    8.200000\n",
      "Musical / Short                         7.700000\n",
      "Concert Film                            7.633333\n",
      "Anthology/Dark comedy                   7.600000\n",
      "Animation / Science Fiction             7.500000\n",
      "Making-of                               7.450000\n",
      "Action-adventure                        7.300000\n",
      "Coming-of-age comedy-drama              7.200000\n",
      "Drama-Comedy                            7.200000\n",
      "Historical drama                        7.200000\n",
      "Name: IMDB Score, dtype: float64\n"
     ]
    }
   ],
   "source": [
    "print(\"---------------------------------------------------------------------------------\")\n",
    "\n",
    "#IMDB Puanı en yüksek olan ilk 10 'Genre' hangileridir? Görselleştiriniz.\n",
    "print(netflix.groupby(\"Genre\")[\"IMDB Score\"].mean().nlargest(10))"
   ]
  },
  {
   "cell_type": "code",
   "execution_count": 10,
   "id": "73c862f0",
   "metadata": {},
   "outputs": [
    {
     "name": "stdout",
     "output_type": "stream",
     "text": [
      "---------------------------------------------------------------------------------\n"
     ]
    },
    {
     "data": {
      "image/png": "[encoded data removed]",
      "text/plain": [
       "<Figure size 432x288 with 1 Axes>"
      ]
     },
     "metadata": {},
     "output_type": "display_data"
    }
   ],
   "source": [
    "print(\"---------------------------------------------------------------------------------\")\n",
    "\n",
    "#IMDB puanı ile 'Runtime' arasında nasıl bir korelasyon vardır? İnceleyip görselleştiriniz.\n",
    "sns.regplot(data=netflix,x='IMDB Score',y='Runtime');\n",
    "pl.title('Scatter plot of runtime and IMDB score');\n",
    "pl.show()\n"
   ]
  },
  {
   "cell_type": "code",
   "execution_count": 11,
   "id": "e17eb6a2",
   "metadata": {},
   "outputs": [
    {
     "name": "stdout",
     "output_type": "stream",
     "text": [
      "---------------------------------------------------------------------------------\n",
      "                               Title  Runtime\n",
      "561                     The Irishman      209\n",
      "328                      Da 5 Bloods      155\n",
      "581          Springsteen on Broadway      153\n",
      "247                         Citation      151\n",
      "284               The Forest of Love      151\n",
      "509                   Raat Akeli Hai      149\n",
      "7    The Last Days of American Crime      149\n",
      "543                             Ludo      149\n",
      "194                 Army of the Dead      148\n",
      "5                              Drive      147\n"
     ]
    }
   ],
   "source": [
    "print(\"---------------------------------------------------------------------------------\")\n",
    "\n",
    "#'Runtime' değeri en yüksek olan ilk 10 film hangileridir? Görselleştiriniz.\n",
    "top_10_runtime = netflix[[\"Title\", \"Runtime\"]].sort_values([\"Runtime\"], ascending=False)[:10]\n",
    "print(top_10_runtime)"
   ]
  },
  {
   "cell_type": "code",
   "execution_count": 12,
   "id": "d527360a",
   "metadata": {},
   "outputs": [
    {
     "data": {
      "image/png": "[encoded data removed]",
      "text/plain": [
       "<Figure size 360x360 with 1 Axes>"
      ]
     },
     "metadata": {},
     "output_type": "display_data"
    }
   ],
   "source": [
    "#Görsel Hali\n",
    "sns.catplot(data = top_10_runtime, x='Runtime', y='Title')\n",
    "pl.show()"
   ]
  },
  {
   "cell_type": "code",
   "execution_count": 13,
   "id": "490d3636",
   "metadata": {},
   "outputs": [
    {
     "name": "stdout",
     "output_type": "stream",
     "text": [
      "---------------------------------------------------------------------------------\n",
      "115\n",
      "---------------------------------------------------------------------------------\n",
      "['Documentary' 'Thriller' 'Science fiction/Drama' 'Horror thriller'\n",
      " 'Mystery' 'Action' 'Comedy' 'Heist film/Thriller'\n",
      " 'Musical/Western/Fantasy' 'Drama' 'Romantic comedy' 'Action comedy'\n",
      " 'Horror anthology' 'Political thriller' 'Superhero-Comedy' 'Horror'\n",
      " 'Romance drama' 'Anime / Short' 'Superhero' 'Heist' 'Western'\n",
      " 'Animation/Superhero' 'Family film' 'Action-thriller' 'Teen comedy-drama'\n",
      " 'Romantic drama' 'Animation' 'Aftershow / Interview' 'Christmas musical'\n",
      " 'Science fiction adventure' 'Science fiction' 'Variety show'\n",
      " 'Comedy-drama' 'Comedy/Fantasy/Family' 'Supernatural drama'\n",
      " 'Action/Comedy' 'Action/Science fiction' 'Romantic teenage drama'\n",
      " 'Comedy / Musical' 'Musical' 'Science fiction/Mystery' 'Crime drama'\n",
      " 'Psychological thriller drama' 'Adventure/Comedy' 'Black comedy'\n",
      " 'Romance' 'Horror comedy' 'Christian musical' 'Romantic teen drama'\n",
      " 'Family' 'Dark comedy' 'Comedy horror' 'Psychological thriller' 'Biopic'\n",
      " 'Science fiction/Thriller' 'Mockumentary' 'Satire' 'One-man show'\n",
      " 'Romantic comedy-drama' 'Comedy/Horror' 'Fantasy' 'Sports-drama'\n",
      " 'Zombie/Heist' 'Psychological horror' 'Sports film' 'Comedy mystery'\n",
      " 'Romantic thriller' 'Christmas comedy' 'War-Comedy'\n",
      " 'Romantic comedy/Holiday' 'Adventure-romance' 'Adventure'\n",
      " 'Horror-thriller' 'Dance comedy' 'Stop Motion' 'Horror/Crime drama'\n",
      " 'Urban fantasy' 'Drama/Horror' 'Family/Comedy-drama' 'War'\n",
      " 'Crime thriller' 'Science fiction/Action' 'Teen comedy horror'\n",
      " 'Concert Film' 'Musical comedy' 'Animation/Musical/Adventure'\n",
      " 'Animation / Musicial' 'Animation/Comedy/Adventure' 'Action thriller'\n",
      " 'Anime/Science fiction' 'Animation / Short' 'War drama'\n",
      " 'Family/Christmas musical' 'Science fiction thriller' 'Drama / Short'\n",
      " 'Hidden-camera prank comedy' 'Spy thriller' 'Anime/Fantasy'\n",
      " 'Animated musical comedy' 'Variety Show' 'Superhero/Action'\n",
      " 'Biographical/Comedy' 'Historical-epic' 'Animation / Comedy'\n",
      " 'Christmas/Fantasy/Adventure/Comedy' 'Mentalism special' 'Drama-Comedy'\n",
      " 'Coming-of-age comedy-drama' 'Historical drama' 'Making-of'\n",
      " 'Action-adventure' 'Animation / Science Fiction' 'Anthology/Dark comedy'\n",
      " 'Musical / Short' 'Animation/Christmas/Comedy/Adventure']\n"
     ]
    }
   ],
   "source": [
    "print(\"---------------------------------------------------------------------------------\")\n",
    "\n",
    "#Genre kategorisi kaç tane\n",
    "print(netflix['Genre'].nunique())\n",
    "\n",
    "print(\"---------------------------------------------------------------------------------\")\n",
    "\n",
    "#Genre Kategorileri Nelerdir\n",
    "print(netflix['Genre'].unique())\n"
   ]
  },
  {
   "cell_type": "code",
   "execution_count": 14,
   "id": "e1ad5913",
   "metadata": {},
   "outputs": [
    {
     "name": "stdout",
     "output_type": "stream",
     "text": [
      "---------------------------------------------------------------------------------\n",
      "Language\n",
      "Malay               4.200000\n",
      "English/Japanese    4.400000\n",
      "Filipino            5.100000\n",
      "Norwegian           5.100000\n",
      "Polish              5.166667\n",
      "Thai                5.450000\n",
      "Swedish             5.500000\n",
      "Italian             5.542857\n",
      "Spanish/Basque      5.600000\n",
      "German              5.640000\n",
      "Name: IMDB Score, dtype: float64\n"
     ]
    }
   ],
   "source": [
    "print(\"---------------------------------------------------------------------------------\")\n",
    "\n",
    "#IMDB Puanı en düşük olan 10 film ve dili\n",
    "imdblanguage=(netflix.groupby(\"Language\")[\"IMDB Score\"].mean().nsmallest(10))\n",
    "print(imdblanguage)"
   ]
  },
  {
   "cell_type": "code",
   "execution_count": 15,
   "id": "727f3593",
   "metadata": {},
   "outputs": [
    {
     "name": "stdout",
     "output_type": "stream",
     "text": [
      "---------------------------------------------------------------------------------\n"
     ]
    },
    {
     "data": {
      "text/plain": [
       "[Text(0, 0.5, 'Language'), Text(0.5, 0, 'IMDB scores')]"
      ]
     },
     "execution_count": 15,
     "metadata": {},
     "output_type": "execute_result"
    },
    {
     "data": {
      "image/png": "[encoded data removed]",
      "text/plain": [
       "<Figure size 432x288 with 1 Axes>"
      ]
     },
     "metadata": {},
     "output_type": "display_data"
    }
   ],
   "source": [
    "print(\"---------------------------------------------------------------------------------\")\n",
    "\n",
    "#IMDB Puanı en düşük olan 10 film ve dili. Görselleştirilmiş hali\n",
    "imdblanguageplot = sns.barplot(x=imdblanguage.values, y=imdblanguage.index, orient='h')\n",
    "imdblanguageplot.set(ylabel=\"Language\",\n",
    "       xlabel=\"IMDB scores\")\n"
   ]
  },
  {
   "cell_type": "code",
   "execution_count": 16,
   "id": "8682fcc9",
   "metadata": {},
   "outputs": [
    {
     "name": "stdout",
     "output_type": "stream",
     "text": [
      "       Year                             Title  Runtime\n",
      "304  2014.0                        My Own Man     81.0\n",
      "553  2015.0               Beasts of No Nation    136.0\n",
      "387  2016.0  Tony Robbins: I Am Not Your Guru    116.0\n",
      "481  2017.0       First They Killed My Father    136.0\n",
      "581  2018.0           Springsteen on Broadway    153.0\n",
      "561  2019.0                      The Irishman    209.0\n",
      "328  2020.0                       Da 5 Bloods    155.0\n",
      "194  2021.0                  Army of the Dead    148.0\n"
     ]
    },
    {
     "data": {
      "image/png": "[encoded data removed]",
      "text/plain": [
       "<Figure size 432x288 with 1 Axes>"
      ]
     },
     "metadata": {},
     "output_type": "display_data"
    }
   ],
   "source": [
    "# Hangi yılın toplam \"runtime\" süresi en fazladır?\n",
    "find_year_runtime = netflix[[\"Year\",\"Title\", \"Runtime\"]]\n",
    "#print(find_year_runtime)\n",
    "find_year_runtime_year_s = find_year_runtime.drop(find_year_runtime.index[0:])\n",
    "\n",
    "for x in range(2014,2022):\n",
    "\n",
    "    find_year_runtime_year = find_year_runtime.where(netflix['Year'] == x)\n",
    "    find_year_runtime_year = find_year_runtime_year[[\"Year\",\"Title\", \"Runtime\"]].sort_values([\"Runtime\"], ascending=False)[:1]\n",
    "    find_year_runtime_year_s = pd.concat([find_year_runtime_year_s, find_year_runtime_year])\n",
    "print(find_year_runtime_year_s)\n",
    "\n",
    "\n",
    "#print(runtime_high)\n",
    "runtime_high_plot = sns.barplot(data = find_year_runtime_year_s, x='Runtime', y='Title')\n"
   ]
  },
  {
   "cell_type": "code",
   "execution_count": 17,
   "id": "a92abdf4",
   "metadata": {},
   "outputs": [
    {
     "name": "stdout",
     "output_type": "stream",
     "text": [
      "       Year  IMDB Score                                      Title  \\\n",
      "0    2019.0         2.5                            Enter the Anime   \n",
      "15   2019.0         4.3                             After the Raid   \n",
      "20   2019.0         4.4          Hello Privilege. It's Me, Chelsea   \n",
      "30   2019.0         4.6                                After Maria   \n",
      "111  2019.0         5.5                       Ghosts of Sugar Land   \n",
      "..      ...         ...                                        ...   \n",
      "570  2020.0         8.1                             Rising Phoenix   \n",
      "572  2020.0         8.2          Disclosure: Trans Lives on Screen   \n",
      "575  2020.0         8.2      The Three Deaths of Marisela Escobedo   \n",
      "582  2020.0         8.6  Emicida: AmarElo - It's All For Yesterday   \n",
      "583  2020.0         9.0   David Attenborough: A Life on Our Planet   \n",
      "\n",
      "           Genre  \n",
      "0    Documentary  \n",
      "15   Documentary  \n",
      "20   Documentary  \n",
      "30   Documentary  \n",
      "111  Documentary  \n",
      "..           ...  \n",
      "570  Documentary  \n",
      "572  Documentary  \n",
      "575  Documentary  \n",
      "582  Documentary  \n",
      "583  Documentary  \n",
      "\n",
      "[79 rows x 4 columns]\n"
     ]
    },
    {
     "data": {
      "image/png": "[encoded data removed]",
      "text/plain": [
       "<Figure size 432x288 with 1 Axes>"
      ]
     },
     "metadata": {},
     "output_type": "display_data"
    }
   ],
   "source": [
    "#-2019 Ocak ile 2020 Haziran tarihleri arasında 'Documentary' türünde çekilmiş filmlerin IMDB değerlerini bulup görselleştiriniz.\n",
    "find_Documentary = netflix.where(netflix['Genre'] == 'Documentary')\n",
    "find_Documentary_imdb = find_Documentary[[\"Year\", \"IMDB Score\", \"Title\", \"Genre\"]]\n",
    "find_Documentary_imdb_2019 = find_Documentary_imdb.where(netflix['Year'] == 2019)\n",
    "find_Documentary_imdb_2020 = find_Documentary_imdb.where(netflix['Year'] == 2020)\n",
    "\n",
    "find_Documentary_imdb_year = pd.concat([find_Documentary_imdb_2019, find_Documentary_imdb_2020])\n",
    "find_Documentary_imdb_year = find_Documentary_imdb_year.dropna()\n",
    "print(find_Documentary_imdb_year)\n",
    "\n",
    "\n",
    "find_Documentary_imdb_year_plot = sns.barplot(data = find_Documentary_imdb_year, x='Year', y='IMDB Score')"
   ]
  },
  {
   "cell_type": "code",
   "execution_count": 18,
   "id": "ec21dc7d",
   "metadata": {},
   "outputs": [
    {
     "name": "stdout",
     "output_type": "stream",
     "text": [
      "       Year Language                                  Title  Runtime\n",
      "4    2020.0    Hindi                            Kaali Khuhi     90.0\n",
      "5    2019.0    Hindi                                  Drive    147.0\n",
      "9    2021.0    Hindi                     Sardar Ka Grandson    139.0\n",
      "16   2020.0    Hindi                          Ghost Stories    144.0\n",
      "23   2021.0    Hindi                  The Girl on the Train    120.0\n",
      "45   2020.0    Hindi                     Mrs. Serial Killer    106.0\n",
      "87   2020.0    Hindi         Gunjan Saxena: The Kargil Girl    112.0\n",
      "97   2020.0    Hindi  Dolly Kitty and Those Twinkling Stars    120.0\n",
      "100  2020.0    Hindi                                 Guilty    119.0\n",
      "112  2019.0    Hindi                           House Arrest    104.0\n",
      "147  2020.0    Hindi                       Ginny Weds Sunny    125.0\n",
      "168  2020.0    Hindi                Choked: Paisa Bolta Hai    114.0\n",
      "169  2020.0    Hindi                           Class of '83     98.0\n",
      "176  2018.0    Hindi                           Rajma Chawal    118.0\n",
      "200  2020.0    Hindi                                  Maska    111.0\n",
      "210  2019.0    Hindi                             Lovefucked    106.0\n",
      "241  2021.0    Hindi          Tribhanga  Tedhi Medhi Crazy     95.0\n",
      "274  2019.0    Hindi                          Music Teacher    101.0\n",
      "327  2019.0    Hindi                             Chopsticks    100.0\n",
      "335  2018.0    Hindi                           Lust Stories    120.0\n",
      "348  2020.0    Hindi                                Bulbbul     94.0\n",
      "354  2021.0    Hindi                              Milestone     98.0\n",
      "365  2021.0    Hindi                        Ajeeb Daastaans    142.0\n",
      "388  2019.0    Hindi                               Upstarts    112.0\n",
      "397  2018.0    Hindi                   Long Live Brij Mohan    105.0\n",
      "405  2020.0    Hindi                            Serious Men    114.0\n",
      "413  2020.0    Hindi                               AK vs AK    108.0\n",
      "423  2021.0    Hindi                               Pagglait    114.0\n",
      "486  2018.0    Hindi                   Love per Square Foot    133.0\n",
      "491  2019.0    Hindi                                   Soni     97.0\n",
      "509  2020.0    Hindi                         Raat Akeli Hai    149.0\n",
      "543  2020.0    Hindi                                   Ludo    149.0\n",
      "551  2020.0    Hindi                             Yeh Ballet    117.0\n"
     ]
    },
    {
     "data": {
      "text/plain": [
       "[Text(0.5, 0, 'average runtime'), Text(0, 0.5, 'Hindi Movie')]"
      ]
     },
     "execution_count": 18,
     "metadata": {},
     "output_type": "execute_result"
    },
    {
     "data": {
      "image/png": "[encoded data removed]",
      "text/plain": [
       "<Figure size 432x288 with 1 Axes>"
      ]
     },
     "metadata": {},
     "output_type": "display_data"
    }
   ],
   "source": [
    "#'Hindi' Dilinde çekilmiş olan filmlerin ortalama 'runtime' suresi nedir?\n",
    "find_Hindi = netflix.where(netflix['Language'] == 'Hindi')\n",
    "find_Hindi = find_Hindi[[\"Year\", \"Language\", \"Title\", \"Runtime\"]].dropna()\n",
    "average = find_Hindi[[\"Runtime\"]].mean()\n",
    "\n",
    "print(find_Hindi)\n",
    "\n",
    "hindi_plot = sns.barplot(data = average, x=average)\n",
    "hindi_plot.set(xlabel='average runtime', ylabel='Hindi Movie')"
   ]
  },
  {
   "cell_type": "code",
   "execution_count": 19,
   "id": "dbc33049",
   "metadata": {},
   "outputs": [
    {
     "data": {
      "image/png": "[encoded data removed]",
      "text/plain": [
       "<Figure size 432x288 with 1 Axes>"
      ]
     },
     "metadata": {},
     "output_type": "display_data"
    }
   ],
   "source": [
    "#-Veri setine göre uzun soluklu filmler hangi dilde oluşturulmuştur? Görselleştirme yapınız.\n",
    "#uzun soluklu film 90 ve üstü seçildi\n",
    "\n",
    "find_long = netflix.where(netflix['Runtime'] >= 90)\n",
    "find_long = find_long[[\"Language\", \"Title\", \"Runtime\"]].dropna()\n",
    "\n",
    "language_high_plot = sns.barplot(data = find_long, x='Runtime', y='Language')"
   ]
  },
  {
   "cell_type": "code",
   "execution_count": 20,
   "id": "f7ff9c9b",
   "metadata": {},
   "outputs": [
    {
     "name": "stdout",
     "output_type": "stream",
     "text": [
      "Language      English\n",
      "Title         Òlòt?ré\n",
      "IMDB Score        9.0\n",
      "dtype: object\n"
     ]
    }
   ],
   "source": [
    "#-İngilizce çekilen filmler içerisinde hangi tür en yüksek IMDB puanına sahiptir?\n",
    "find_english_imdb = netflix.where(netflix['Language'] == 'English')\n",
    "find_english_imdb = find_english_imdb[[\"Language\", \"Title\", \"IMDB Score\"]].dropna()\n",
    "maks = find_english_imdb.max()\n",
    "print(maks)\n"
   ]
  },
  {
   "cell_type": "code",
   "execution_count": 21,
   "id": "82b27391",
   "metadata": {},
   "outputs": [
    {
     "name": "stdout",
     "output_type": "stream",
     "text": [
      "                     Language                                        Title  \\\n",
      "0            English/Japanese                              Enter the Anime   \n",
      "1                     Spanish                                  Dark Forces   \n",
      "2                     Italian                                      The App   \n",
      "3                     English                               The Open House   \n",
      "4                       Hindi                                  Kaali Khuhi   \n",
      "..                        ...                                          ...   \n",
      "579                   English        Taylor Swift: Reputation Stadium Tour   \n",
      "580  English/Ukranian/Russian  Winter on Fire: Ukraine's Fight for Freedom   \n",
      "581                   English                      Springsteen on Broadway   \n",
      "582                Portuguese    Emicida: AmarElo - It's All For Yesterday   \n",
      "583                   English     David Attenborough: A Life on Our Planet   \n",
      "\n",
      "                     Genre  \n",
      "0              Documentary  \n",
      "1                 Thriller  \n",
      "2    Science fiction/Drama  \n",
      "3          Horror thriller  \n",
      "4                  Mystery  \n",
      "..                     ...  \n",
      "579           Concert Film  \n",
      "580            Documentary  \n",
      "581           One-man show  \n",
      "582            Documentary  \n",
      "583            Documentary  \n",
      "\n",
      "[584 rows x 3 columns]\n"
     ]
    }
   ],
   "source": [
    "#-Her bir dilin en fazla kullanıldığı \"Genre\" nedir?\n",
    "\n",
    "find_genre = netflix[[\"Language\", \"Title\", \"Genre\"]].dropna()\n",
    "print(find_genre)\n",
    "\n"
   ]
  },
  {
   "cell_type": "code",
   "execution_count": 54,
   "id": "ee924246",
   "metadata": {},
   "outputs": [
    {
     "name": "stdout",
     "output_type": "stream",
     "text": [
      "Language          Genre      \n",
      "English/Japanese  Crime drama    1\n",
      "dtype: int64\n",
      "Language  Genre      \n",
      "Spanish   Documentary    8\n",
      "dtype: int64\n",
      "Language  Genre\n",
      "Italian   Drama    4\n",
      "dtype: int64\n",
      "Language  Genre      \n",
      "English   Documentary    120\n",
      "dtype: int64\n",
      "Language  Genre\n",
      "Hindi     Drama    13\n",
      "dtype: int64\n",
      "Language  Genre \n",
      "Turkish   Comedy    2\n",
      "dtype: int64\n",
      "Language  Genre\n",
      "Korean    Drama    2\n",
      "dtype: int64\n",
      "Language    Genre\n",
      "Indonesian  Drama    3\n",
      "dtype: int64\n",
      "Language  Genre        \n",
      "Malay     Action comedy    1\n",
      "dtype: int64\n",
      "Language  Genre      \n",
      "Dutch     Crime drama    1\n",
      "dtype: int64\n",
      "Language  Genre      \n",
      "French    Documentary    6\n",
      "dtype: int64\n",
      "Language         Genre      \n",
      "English/Spanish  Documentary    5\n",
      "dtype: int64\n",
      "Language    Genre \n",
      "Portuguese  Comedy    6\n",
      "dtype: int64\n",
      "Language  Genre\n",
      "Filipino  Drama    1\n",
      "dtype: int64\n",
      "Language  Genre\n",
      "German    Drama    1\n",
      "dtype: int64\n",
      "Language  Genre \n",
      "Polish    Horror    1\n",
      "dtype: int64\n",
      "Language   Genre \n",
      "Norwegian  Horror    1\n",
      "dtype: int64\n",
      "Language  Genre\n",
      "Marathi   Drama    2\n",
      "dtype: int64\n",
      "Language  Genre      \n",
      "Thai      Documentary    1\n",
      "dtype: int64\n",
      "Language  Genre   \n",
      "Swedish   Thriller    1\n",
      "dtype: int64\n",
      "Language  Genre                \n",
      "Japanese  Anime/Science fiction    2\n",
      "dtype: int64\n",
      "Language        Genre       \n",
      "Spanish/Basque  Black comedy    1\n",
      "dtype: int64\n",
      "Language         Genre      \n",
      "Spanish/Catalan  Documentary    1\n",
      "dtype: int64\n",
      "Language         Genre      \n",
      "English/Swedish  Documentary    1\n",
      "dtype: int64\n",
      "Language                    Genre\n",
      "English/Taiwanese/Mandarin  Drama    1\n",
      "dtype: int64\n",
      "Language      Genre      \n",
      "Thia/English  Documentary    1\n",
      "dtype: int64\n",
      "Language          Genre      \n",
      "English/Mandarin  Documentary    2\n",
      "dtype: int64\n",
      "Language  Genre      \n",
      "Georgian  Documentary    1\n",
      "dtype: int64\n",
      "Language  Genre      \n",
      "Bengali   Documentary    1\n",
      "dtype: int64\n",
      "Language              Genre\n",
      "Khmer/English/French  Drama    1\n",
      "dtype: int64\n",
      "Language       Genre      \n",
      "English/Hindi  Documentary    2\n",
      "dtype: int64\n",
      "Language  Genre\n",
      "Tamil     Drama    1\n",
      "dtype: int64\n",
      "Language         Genre      \n",
      "Spanish/English  Documentary    1\n",
      "dtype: int64\n",
      "Language        Genre           \n",
      "English/Korean  Action-adventure    1\n",
      "dtype: int64\n",
      "Language        Genre      \n",
      "English/Arabic  Documentary    1\n",
      "dtype: int64\n",
      "Language         Genre      \n",
      "English/Russian  Documentary    1\n",
      "dtype: int64\n",
      "Language      Genre    \n",
      "English/Akan  War drama    1\n",
      "dtype: int64\n",
      "Language                  Genre      \n",
      "English/Ukranian/Russian  Documentary    1\n",
      "dtype: int64\n"
     ]
    }
   ],
   "source": [
    "# Her bir dilin en fazla kullanıldığı \"Genre\" nedir?\n",
    "language=netflix['Language'].unique()\n",
    "\n",
    "for i in language:\n",
    "    find_genre = netflix.where(netflix['Language'] == i)\n",
    "    find_genre = find_genre[[\"Language\", \"Genre\"]].dropna()\n",
    "    #find_genre = find_genre.Genre.value_counts()\n",
    "    find_genre = find_genre.value_counts().nlargest(1)\n",
    "    print(find_genre)"
   ]
  },
  {
   "cell_type": "code",
   "execution_count": null,
   "id": "94701ac4",
   "metadata": {},
   "outputs": [],
   "source": []
  }
 ],
 "metadata": {
  "kernelspec": {
   "display_name": "Python 3 (ipykernel)",
   "language": "python",
   "name": "python3"
  },
  "language_info": {
   "codemirror_mode": {
    "name": "ipython",
    "version": 3
   },
   "file_extension": ".py",
   "mimetype": "text/x-python",
   "name": "python",
   "nbconvert_exporter": "python",
   "pygments_lexer": "ipython3",
   "version": "3.8.13"
  }
 },
 "nbformat": 4,
 "nbformat_minor": 5
}
